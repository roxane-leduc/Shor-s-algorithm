{
 "cells": [
  {
   "cell_type": "code",
   "execution_count": 62,
   "id": "77c59a90",
   "metadata": {},
   "outputs": [],
   "source": [
    "import numpy as np\n",
    "from qiskit import QuantumCircuit, Aer, execute, transpile\n",
    "from qiskit.tools.visualization import plot_histogram"
   ]
  },
  {
   "cell_type": "code",
   "execution_count": 63,
   "id": "0670dc85",
   "metadata": {},
   "outputs": [],
   "source": [
    "# Exponentiation modulaire\n",
    "def apmod15(a, power):\n",
    "    U = QuantumCircuit(4)\n",
    "    \n",
    "    for iteration in range(power):\n",
    "        U.swap(2,3)\n",
    "        U.swap(1,2)\n",
    "        U.swap(0,1)\n",
    "        for q in range(4):\n",
    "            U.x(q)\n",
    "    \n",
    "    U = U.to_gate()\n",
    "    U.name = \"%i ^ %i mod 15\" %(a,power)\n",
    "    c_U = U.control()\n",
    "    \n",
    "    return c_U"
   ]
  },
  {
   "cell_type": "code",
   "execution_count": 64,
   "id": "f41d35ef",
   "metadata": {},
   "outputs": [],
   "source": [
    "n1 = 8 # Premier registre\n",
    "n2 = 4 # Second registre\n",
    "a = 7"
   ]
  },
  {
   "cell_type": "code",
   "execution_count": 65,
   "id": "f6e3e641",
   "metadata": {},
   "outputs": [],
   "source": [
    "# Transformee de Fourier quantique Inverse\n",
    "def tfi(n):\n",
    "    qc = QuantumCircuit(n)\n",
    "    \n",
    "    for qubit in range(n//2):\n",
    "        qc.swap(qubit, n-qubit-1)\n",
    "        \n",
    "    for j in range(n):\n",
    "        qc.h(j)\n",
    "        for m in range(j+1, n):\n",
    "            qc.cp(-np.pi/float(2**(j-m)), m, j)\n",
    "            \n",
    "    qc.name = \"Transformee de Fourier Inverse\"\n",
    "    \n",
    "    return qc"
   ]
  },
  {
   "cell_type": "code",
   "execution_count": 66,
   "id": "179534e0",
   "metadata": {},
   "outputs": [
    {
     "data": {
      "text/html": [
       "<pre style=\"word-wrap: normal;white-space: pre;background: #fff0;line-height: 1.1;font-family: &quot;Courier New&quot;,Courier,monospace\">      ┌───┐                                                                                                                                             ┌─────────────────────────────────┐┌─┐                     \n",
       " q_0: ┤ H ├────────■────────────────────────────────────────────────────────────────────────────────────────────────────────────────────────────────────┤0                                ├┤M├─────────────────────\n",
       "      ├───┤        │                                                                                                                                    │                                 │└╥┘┌─┐                  \n",
       " q_1: ┤ H ├────────┼────────────────■───────────────────────────────────────────────────────────────────────────────────────────────────────────────────┤1                                ├─╫─┤M├──────────────────\n",
       "      ├───┤        │                │                                                                                                                   │                                 │ ║ └╥┘┌─┐               \n",
       " q_2: ┤ H ├────────┼────────────────┼────────────────■──────────────────────────────────────────────────────────────────────────────────────────────────┤2                                ├─╫──╫─┤M├───────────────\n",
       "      ├───┤        │                │                │                                                                                                  │                                 │ ║  ║ └╥┘┌─┐            \n",
       " q_3: ┤ H ├────────┼────────────────┼────────────────┼────────────────■─────────────────────────────────────────────────────────────────────────────────┤3                                ├─╫──╫──╫─┤M├────────────\n",
       "      ├───┤        │                │                │                │                                                                                 │  Transformee de Fourier Inverse │ ║  ║  ║ └╥┘┌─┐         \n",
       " q_4: ┤ H ├────────┼────────────────┼────────────────┼────────────────┼────────────────■────────────────────────────────────────────────────────────────┤4                                ├─╫──╫──╫──╫─┤M├─────────\n",
       "      ├───┤        │                │                │                │                │                                                                │                                 │ ║  ║  ║  ║ └╥┘┌─┐      \n",
       " q_5: ┤ H ├────────┼────────────────┼────────────────┼────────────────┼────────────────┼─────────────────■──────────────────────────────────────────────┤5                                ├─╫──╫──╫──╫──╫─┤M├──────\n",
       "      ├───┤        │                │                │                │                │                 │                                              │                                 │ ║  ║  ║  ║  ║ └╥┘┌─┐   \n",
       " q_6: ┤ H ├────────┼────────────────┼────────────────┼────────────────┼────────────────┼─────────────────┼─────────────────■────────────────────────────┤6                                ├─╫──╫──╫──╫──╫──╫─┤M├───\n",
       "      ├───┤        │                │                │                │                │                 │                 │                            │                                 │ ║  ║  ║  ║  ║  ║ └╥┘┌─┐\n",
       " q_7: ┤ H ├────────┼────────────────┼────────────────┼────────────────┼────────────────┼─────────────────┼─────────────────┼──────────────────■─────────┤7                                ├─╫──╫──╫──╫──╫──╫──╫─┤M├\n",
       "      └───┘┌───────┴───────┐┌───────┴───────┐┌───────┴───────┐┌───────┴───────┐┌───────┴────────┐┌───────┴────────┐┌───────┴────────┐┌────────┴────────┐└─────────────────────────────────┘ ║  ║  ║  ║  ║  ║  ║ └╥┘\n",
       " q_8: ─────┤0              ├┤0              ├┤0              ├┤0              ├┤0               ├┤0               ├┤0               ├┤0                ├────────────────────────────────────╫──╫──╫──╫──╫──╫──╫──╫─\n",
       "           │               ││               ││               ││               ││                ││                ││                ││                 │                                    ║  ║  ║  ║  ║  ║  ║  ║ \n",
       " q_9: ─────┤1              ├┤1              ├┤1              ├┤1              ├┤1               ├┤1               ├┤1               ├┤1                ├────────────────────────────────────╫──╫──╫──╫──╫──╫──╫──╫─\n",
       "           │  7 ^ 1 mod 15 ││  7 ^ 2 mod 15 ││  7 ^ 4 mod 15 ││  7 ^ 8 mod 15 ││  7 ^ 16 mod 15 ││  7 ^ 32 mod 15 ││  7 ^ 64 mod 15 ││  7 ^ 128 mod 15 │                                    ║  ║  ║  ║  ║  ║  ║  ║ \n",
       "q_10: ─────┤2              ├┤2              ├┤2              ├┤2              ├┤2               ├┤2               ├┤2               ├┤2                ├────────────────────────────────────╫──╫──╫──╫──╫──╫──╫──╫─\n",
       "      ┌───┐│               ││               ││               ││               ││                ││                ││                ││                 │                                    ║  ║  ║  ║  ║  ║  ║  ║ \n",
       "q_11: ┤ X ├┤3              ├┤3              ├┤3              ├┤3              ├┤3               ├┤3               ├┤3               ├┤3                ├────────────────────────────────────╫──╫──╫──╫──╫──╫──╫──╫─\n",
       "      └───┘└───────────────┘└───────────────┘└───────────────┘└───────────────┘└────────────────┘└────────────────┘└────────────────┘└─────────────────┘                                    ║  ║  ║  ║  ║  ║  ║  ║ \n",
       " c: 8/══════════════════════════════════════════════════════════════════════════════════════════════════════════════════════════════════════════════════════════════════════════════════════╩══╩══╩══╩══╩══╩══╩══╩═\n",
       "                                                                                                                                                                                            0  1  2  3  4  5  6  7 </pre>"
      ],
      "text/plain": [
       "      ┌───┐                                                                                                                                             ┌─────────────────────────────────┐┌─┐                     \n",
       " q_0: ┤ H ├────────■────────────────────────────────────────────────────────────────────────────────────────────────────────────────────────────────────┤0                                ├┤M├─────────────────────\n",
       "      ├───┤        │                                                                                                                                    │                                 │└╥┘┌─┐                  \n",
       " q_1: ┤ H ├────────┼────────────────■───────────────────────────────────────────────────────────────────────────────────────────────────────────────────┤1                                ├─╫─┤M├──────────────────\n",
       "      ├───┤        │                │                                                                                                                   │                                 │ ║ └╥┘┌─┐               \n",
       " q_2: ┤ H ├────────┼────────────────┼────────────────■──────────────────────────────────────────────────────────────────────────────────────────────────┤2                                ├─╫──╫─┤M├───────────────\n",
       "      ├───┤        │                │                │                                                                                                  │                                 │ ║  ║ └╥┘┌─┐            \n",
       " q_3: ┤ H ├────────┼────────────────┼────────────────┼────────────────■─────────────────────────────────────────────────────────────────────────────────┤3                                ├─╫──╫──╫─┤M├────────────\n",
       "      ├───┤        │                │                │                │                                                                                 │  Transformee de Fourier Inverse │ ║  ║  ║ └╥┘┌─┐         \n",
       " q_4: ┤ H ├────────┼────────────────┼────────────────┼────────────────┼────────────────■────────────────────────────────────────────────────────────────┤4                                ├─╫──╫──╫──╫─┤M├─────────\n",
       "      ├───┤        │                │                │                │                │                                                                │                                 │ ║  ║  ║  ║ └╥┘┌─┐      \n",
       " q_5: ┤ H ├────────┼────────────────┼────────────────┼────────────────┼────────────────┼─────────────────■──────────────────────────────────────────────┤5                                ├─╫──╫──╫──╫──╫─┤M├──────\n",
       "      ├───┤        │                │                │                │                │                 │                                              │                                 │ ║  ║  ║  ║  ║ └╥┘┌─┐   \n",
       " q_6: ┤ H ├────────┼────────────────┼────────────────┼────────────────┼────────────────┼─────────────────┼─────────────────■────────────────────────────┤6                                ├─╫──╫──╫──╫──╫──╫─┤M├───\n",
       "      ├───┤        │                │                │                │                │                 │                 │                            │                                 │ ║  ║  ║  ║  ║  ║ └╥┘┌─┐\n",
       " q_7: ┤ H ├────────┼────────────────┼────────────────┼────────────────┼────────────────┼─────────────────┼─────────────────┼──────────────────■─────────┤7                                ├─╫──╫──╫──╫──╫──╫──╫─┤M├\n",
       "      └───┘┌───────┴───────┐┌───────┴───────┐┌───────┴───────┐┌───────┴───────┐┌───────┴────────┐┌───────┴────────┐┌───────┴────────┐┌────────┴────────┐└─────────────────────────────────┘ ║  ║  ║  ║  ║  ║  ║ └╥┘\n",
       " q_8: ─────┤0              ├┤0              ├┤0              ├┤0              ├┤0               ├┤0               ├┤0               ├┤0                ├────────────────────────────────────╫──╫──╫──╫──╫──╫──╫──╫─\n",
       "           │               ││               ││               ││               ││                ││                ││                ││                 │                                    ║  ║  ║  ║  ║  ║  ║  ║ \n",
       " q_9: ─────┤1              ├┤1              ├┤1              ├┤1              ├┤1               ├┤1               ├┤1               ├┤1                ├────────────────────────────────────╫──╫──╫──╫──╫──╫──╫──╫─\n",
       "           │  7 ^ 1 mod 15 ││  7 ^ 2 mod 15 ││  7 ^ 4 mod 15 ││  7 ^ 8 mod 15 ││  7 ^ 16 mod 15 ││  7 ^ 32 mod 15 ││  7 ^ 64 mod 15 ││  7 ^ 128 mod 15 │                                    ║  ║  ║  ║  ║  ║  ║  ║ \n",
       "q_10: ─────┤2              ├┤2              ├┤2              ├┤2              ├┤2               ├┤2               ├┤2               ├┤2                ├────────────────────────────────────╫──╫──╫──╫──╫──╫──╫──╫─\n",
       "      ┌───┐│               ││               ││               ││               ││                ││                ││                ││                 │                                    ║  ║  ║  ║  ║  ║  ║  ║ \n",
       "q_11: ┤ X ├┤3              ├┤3              ├┤3              ├┤3              ├┤3               ├┤3               ├┤3               ├┤3                ├────────────────────────────────────╫──╫──╫──╫──╫──╫──╫──╫─\n",
       "      └───┘└───────────────┘└───────────────┘└───────────────┘└───────────────┘└────────────────┘└────────────────┘└────────────────┘└─────────────────┘                                    ║  ║  ║  ║  ║  ║  ║  ║ \n",
       " c: 8/══════════════════════════════════════════════════════════════════════════════════════════════════════════════════════════════════════════════════════════════════════════════════════╩══╩══╩══╩══╩══╩══╩══╩═\n",
       "                                                                                                                                                                                            0  1  2  3  4  5  6  7 "
      ]
     },
     "execution_count": 66,
     "metadata": {},
     "output_type": "execute_result"
    }
   ],
   "source": [
    "# Creation du circuit\n",
    "qc = QuantumCircuit(n1 + n2, n1)\n",
    "\n",
    "for q in range(n1):\n",
    "    qc.h(q)\n",
    "\n",
    "qc.x(3+n1)\n",
    "\n",
    "for q in range(n1):\n",
    "    qc.append(apmod15(a,2**q), [q]+[i+n1 for i in range(n2)])\n",
    "    \n",
    "qc.append(tfi(n1), range(n1))\n",
    "qc.measure(range(n1), range(n1))\n",
    "qc.draw(fold=-1)"
   ]
  },
  {
   "cell_type": "code",
   "execution_count": 67,
   "id": "926ffec6",
   "metadata": {
    "scrolled": true
   },
   "outputs": [
    {
     "data": {
      "image/png": "[encoded data removed]",
      "text/plain": [
       "<Figure size 504x360 with 1 Axes>"
      ]
     },
     "execution_count": 67,
     "metadata": {},
     "output_type": "execute_result"
    }
   ],
   "source": [
    "backend = Aer.get_backend('qasm_simulator')\n",
    "t_qc = transpile(qc, backend)\n",
    "counts = backend.run(t_qc).result().get_counts()\n",
    "plot_histogram(counts)"
   ]
  }
 ],
 "metadata": {
  "kernelspec": {
   "display_name": "Python 3 (ipykernel)",
   "language": "python",
   "name": "python3"
  },
  "language_info": {
   "codemirror_mode": {
    "name": "ipython",
    "version": 3
   },
   "file_extension": ".py",
   "mimetype": "text/x-python",
   "name": "python",
   "nbconvert_exporter": "python",
   "pygments_lexer": "ipython3",
   "version": "3.10.4"
  }
 },
 "nbformat": 4,
 "nbformat_minor": 5
}
